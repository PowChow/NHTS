{
 "metadata": {
  "name": ""
 },
 "nbformat": 3,
 "nbformat_minor": 0,
 "worksheets": [
  {
   "cells": [
    {
     "cell_type": "heading",
     "level": 1,
     "metadata": {},
     "source": [
      "California & National Household Travel Survey"
     ]
    },
    {
     "cell_type": "heading",
     "level": 2,
     "metadata": {},
     "source": [
      "Active Transportation and Travel to School trips by Southern California County"
     ]
    },
    {
     "cell_type": "code",
     "collapsed": false,
     "input": [
      "import pandas as pd\n",
      "import pprint #better formatting\n",
      "pd.set_option('display.mpl_style', 'default') #make graph output look nicer"
     ],
     "language": "python",
     "metadata": {},
     "outputs": [],
     "prompt_number": 86
    },
    {
     "cell_type": "heading",
     "level": 5,
     "metadata": {},
     "source": [
      "Import relevant data sets from the National Household Travel Survey [add links]"
     ]
    },
    {
     "cell_type": "code",
     "collapsed": false,
     "input": [
      "df_HH = pd.read_csv('./2009_Ascii/HHV2PUB.CSV')\n",
      "df_HH.columns.sort"
     ],
     "language": "python",
     "metadata": {},
     "outputs": [
      {
       "metadata": {},
       "output_type": "pyout",
       "prompt_number": 14,
       "text": [
        "<bound method Index.sort of Index([u'HOUSEID', u'VARSTRAT', u'WTHHFIN', u'DRVRCNT', u'CDIVMSAR', u'CENSUS_D', u'CENSUS_R', u'HH_HISP', u'HH_RACE', u'HHFAMINC', u'HHRELATD', u'HHRESP', u'HHSIZE', u'HHSTATE', u'HHSTFIPS', u'HHVEHCNT', u'HOMEOWN', u'HOMETYPE', u'MSACAT', u'MSASIZE', u'NUMADLT', u'RAIL', u'RESP_CNT', u'SCRESP', u'TRAVDAY', u'URBAN', u'URBANSIZE', u'URBRUR', u'WRKCOUNT', u'TDAYDATE', u'FLAG100', u'LIF_CYC', u'CNTTDHH', u'HBHUR', u'HTRESDN', u'HTHTNRNT', u'HTPPOPDN', u'HTEEMPDN', u'HBRESDN', u'HBHTNRNT', u'HBPPOPDN', u'HH_CBSA', u'HHC_MSA'], dtype='object')>"
       ]
      }
     ],
     "prompt_number": 14
    },
    {
     "cell_type": "heading",
     "level": 5,
     "metadata": {},
     "source": [
      "From documentation, pull relevant variables from the Household tables. Census_D(istrict) and Census_R(egion) are categorized variables and does not map to actual geographical Census information.  "
     ]
    },
    {
     "cell_type": "code",
     "collapsed": false,
     "input": [
      "df_HH_2 = df_HH[['HOUSEID', 'CENSUS_D', 'CENSUS_R', 'HH_CBSA', 'HHC_MSA', 'HHFAMINC', 'HHSTATE', 'HHSTFIPS', 'TRAVDAY', \n",
      "'TDAYDATE']]\n",
      "df_HH_2['TDAYDATE'] = df_HH_2['TDAYDATE'].apply(lambda x: str(x))\n",
      "df_HH_CA = df_HH_2[df_HH_2.HHSTATE == 'CA']\n",
      "df_HH_CA[:5]"
     ],
     "language": "python",
     "metadata": {},
     "outputs": [
      {
       "html": [
        "<div style=\"max-height:1000px;max-width:1500px;overflow:auto;\">\n",
        "<table border=\"1\" class=\"dataframe\">\n",
        "  <thead>\n",
        "    <tr style=\"text-align: right;\">\n",
        "      <th></th>\n",
        "      <th>HOUSEID</th>\n",
        "      <th>CENSUS_D</th>\n",
        "      <th>CENSUS_R</th>\n",
        "      <th>HH_CBSA</th>\n",
        "      <th>HHC_MSA</th>\n",
        "      <th>HHFAMINC</th>\n",
        "      <th>HHSTATE</th>\n",
        "      <th>HHSTFIPS</th>\n",
        "      <th>TRAVDAY</th>\n",
        "      <th>TDAYDATE</th>\n",
        "    </tr>\n",
        "  </thead>\n",
        "  <tbody>\n",
        "    <tr>\n",
        "      <th>13</th>\n",
        "      <td> 20005320</td>\n",
        "      <td> 9</td>\n",
        "      <td> 4</td>\n",
        "      <td> 31100</td>\n",
        "      <td> 4472</td>\n",
        "      <td> 12</td>\n",
        "      <td> CA</td>\n",
        "      <td> 6</td>\n",
        "      <td> 3</td>\n",
        "      <td> 200812</td>\n",
        "    </tr>\n",
        "    <tr>\n",
        "      <th>16</th>\n",
        "      <td> 20005807</td>\n",
        "      <td> 9</td>\n",
        "      <td> 4</td>\n",
        "      <td> 41740</td>\n",
        "      <td> 7320</td>\n",
        "      <td> 18</td>\n",
        "      <td> CA</td>\n",
        "      <td> 6</td>\n",
        "      <td> 1</td>\n",
        "      <td> 200806</td>\n",
        "    </tr>\n",
        "    <tr>\n",
        "      <th>22</th>\n",
        "      <td> 20008264</td>\n",
        "      <td> 9</td>\n",
        "      <td> 4</td>\n",
        "      <td> 41740</td>\n",
        "      <td> 7320</td>\n",
        "      <td> 14</td>\n",
        "      <td> CA</td>\n",
        "      <td> 6</td>\n",
        "      <td> 3</td>\n",
        "      <td> 200812</td>\n",
        "    </tr>\n",
        "    <tr>\n",
        "      <th>26</th>\n",
        "      <td> 20008871</td>\n",
        "      <td> 9</td>\n",
        "      <td> 4</td>\n",
        "      <td> 41740</td>\n",
        "      <td> 7320</td>\n",
        "      <td>  7</td>\n",
        "      <td> CA</td>\n",
        "      <td> 6</td>\n",
        "      <td> 5</td>\n",
        "      <td> 200901</td>\n",
        "    </tr>\n",
        "    <tr>\n",
        "      <th>28</th>\n",
        "      <td> 20009216</td>\n",
        "      <td> 9</td>\n",
        "      <td> 4</td>\n",
        "      <td> 41860</td>\n",
        "      <td> 7362</td>\n",
        "      <td> 17</td>\n",
        "      <td> CA</td>\n",
        "      <td> 6</td>\n",
        "      <td> 5</td>\n",
        "      <td> 200901</td>\n",
        "    </tr>\n",
        "  </tbody>\n",
        "</table>\n",
        "<p>5 rows \u00d7 10 columns</p>\n",
        "</div>"
       ],
       "metadata": {},
       "output_type": "pyout",
       "prompt_number": 73,
       "text": [
        "     HOUSEID  CENSUS_D  CENSUS_R HH_CBSA HHC_MSA  HHFAMINC HHSTATE  HHSTFIPS  \\\n",
        "13  20005320         9         4   31100    4472        12      CA         6   \n",
        "16  20005807         9         4   41740    7320        18      CA         6   \n",
        "22  20008264         9         4   41740    7320        14      CA         6   \n",
        "26  20008871         9         4   41740    7320         7      CA         6   \n",
        "28  20009216         9         4   41860    7362        17      CA         6   \n",
        "\n",
        "    TRAVDAY TDAYDATE  \n",
        "13        3   200812  \n",
        "16        1   200806  \n",
        "22        3   200812  \n",
        "26        5   200901  \n",
        "28        5   200901  \n",
        "\n",
        "[5 rows x 10 columns]"
       ]
      }
     ],
     "prompt_number": 73
    },
    {
     "cell_type": "code",
     "collapsed": false,
     "input": [
      "df_HH_CA.dtypes"
     ],
     "language": "python",
     "metadata": {},
     "outputs": [
      {
       "metadata": {},
       "output_type": "pyout",
       "prompt_number": 66,
       "text": [
        "HOUSEID      int64\n",
        "CENSUS_D     int64\n",
        "CENSUS_R     int64\n",
        "HH_CBSA     object\n",
        "HHC_MSA     object\n",
        "HHFAMINC     int64\n",
        "HHSTATE     object\n",
        "HHSTFIPS     int64\n",
        "TRAVDAY      int64\n",
        "TDAYDATE    object\n",
        "dtype: object"
       ]
      }
     ],
     "prompt_number": 66
    },
    {
     "cell_type": "code",
     "collapsed": false,
     "input": [
      "df_DAY = pd.read_csv('./2009_Ascii/DAYV2PUB.CSV')\n",
      "df_DAY.columns.sort"
     ],
     "language": "python",
     "metadata": {},
     "outputs": [
      {
       "metadata": {},
       "output_type": "pyout",
       "prompt_number": 48,
       "text": [
        "<bound method Index.sort of Index([u'HOUSEID', u'PERSONID', u'FRSTHM', u'OUTOFTWN', u'ONTD_P1', u'ONTD_P2', u'ONTD_P3', u'ONTD_P4', u'ONTD_P5', u'ONTD_P6', u'ONTD_P7', u'ONTD_P8', u'ONTD_P9', u'ONTD_P10', u'ONTD_P11', u'ONTD_P12', u'ONTD_P13', u'ONTD_P14', u'ONTD_P15', u'TDCASEID', u'HH_HISP', u'HH_RACE', u'DRIVER', u'R_SEX', u'WORKER', u'DRVRCNT', u'HHFAMINC', u'HHSIZE', u'HHVEHCNT', u'NUMADLT', u'FLAG100', u'LIF_CYC', u'TRIPPURP', u'AWAYHOME', u'CDIVMSAR', u'CENSUS_D', u'CENSUS_R', u'DROP_PRK', u'DRVR_FLG', u'EDUC', u'ENDTIME', u'HH_ONTD', u'HHMEMDRV', u'HHRESP', u'HHSTATE', u'HHSTFIPS', u'INTSTATE', u'MSACAT', u'MSASIZE', u'NONHHCNT', u'NUMONTRP', u'PAYTOLL', u'PRMACT', u'PROXY', u'PSGR_FLG', u'R_AGE', u'RAIL', u'STRTTIME', u'TRACC1', u'TRACC2', u'TRACC3', u'TRACC4', u'TRACC5', u'TRACCTM', u'TRAVDAY', u'TREGR1', u'TREGR2', u'TREGR3', u'TREGR4', u'TREGR5', u'TREGRTM', u'TRPACCMP', u'TRPHHACC', u'TRPHHVEH', u'TRPTRANS', u'TRVL_MIN', u'TRVLCMIN', u'TRWAITTM', u'URBAN', u'URBANSIZE', u'URBRUR', u'USEINTST', u'USEPUBTR', u'VEHID', u'WHODROVE', u'WHYFROM', u'WHYTO', u'WHYTRP1S', u'WRKCOUNT', u'DWELTIME', u'WHYTRP90', u'TDTRPNUM', u'TDWKND', u'TDAYDATE', u'TRPMILES', u'WTTRDFIN', u'VMT_MILE', u'PUBTRANS', u'HOMEOWN', u'HOMETYPE', ...], dtype='object')>"
       ]
      }
     ],
     "prompt_number": 48
    },
    {
     "cell_type": "code",
     "collapsed": false,
     "input": [
      "df_DAY_2 = df_DAY[['HOUSEID', 'PERSONID', 'FRSTHM', 'HHSTATE', 'HHSTFIPS', 'CENSUS_D', 'CENSUS_R', 'TDAYDATE', 'TDCASEID', 'HH_RACE', 'R_SEX', 'R_AGE', 'WORKER', 'HHFAMINC', 'HHSIZE', 'EDUC', 'TRAVDAY', 'TDTRPNUM', 'TREGR1','TREGR2','TREGR3','TREGR4','TREGR5','TRACC2','TRACC3','TRACC4','TRACC5','TREGRTM','TRACCTM', 'TRPACCMP', 'TRPTRANS','TRVL_MIN','TRVLCMIN','TRPMILES', 'VMT_MILE', 'PUBTRANS', 'USEPUBTR', 'WRKCOUNT', 'TRIPPURP','WHYFROM','WHYTO','WHYTRP1S', 'USEPUBTR']]  \n",
      "df_DAY_2[:5]\n",
      "df_DAY_2.dtypes\n",
      "df_DAY_2.columns"
     ],
     "language": "python",
     "metadata": {},
     "outputs": [
      {
       "metadata": {},
       "output_type": "pyout",
       "prompt_number": 81,
       "text": [
        "Index([u'HOUSEID', u'PERSONID', u'FRSTHM', u'HHSTATE', u'HHSTFIPS', u'CENSUS_D', u'CENSUS_R', u'TDAYDATE', u'TDCASEID', u'HH_RACE', u'R_SEX', u'R_AGE', u'WORKER', u'HHFAMINC', u'HHSIZE', u'EDUC', u'TRAVDAY', u'TDTRPNUM', u'TREGR1', u'TREGR2', u'TREGR3', u'TREGR4', u'TREGR5', u'TRACC2', u'TRACC3', u'TRACC4', u'TRACC5', u'TREGRTM', u'TRACCTM', u'TRPACCMP', u'TRPTRANS', u'TRVL_MIN', u'TRVLCMIN', u'TRPMILES', u'VMT_MILE', u'PUBTRANS', u'USEPUBTR', u'WRKCOUNT', u'TRIPPURP', u'WHYFROM', u'WHYTO', u'WHYTRP1S', u'USEPUBTR'], dtype='object')"
       ]
      }
     ],
     "prompt_number": 81
    },
    {
     "cell_type": "code",
     "collapsed": false,
     "input": [
      "df_PER = pd.read_csv('./2009_Ascii/PERV2PUB.CSV')\n",
      "df_PER.columns.sort"
     ],
     "language": "python",
     "metadata": {},
     "outputs": [
      {
       "metadata": {},
       "output_type": "pyout",
       "prompt_number": 82,
       "text": [
        "<bound method Index.sort of Index([u'HOUSEID', u'PERSONID', u'VARSTRAT', u'WTPERFIN', u'SFWGT', u'HH_HISP', u'HH_RACE', u'DRVRCNT', u'HHFAMINC', u'HHSIZE', u'HHVEHCNT', u'NUMADLT', u'WRKCOUNT', u'FLAG100', u'LIF_CYC', u'CNTTDTR', u'BORNINUS', u'CARRODE', u'CDIVMSAR', u'CENSUS_D', u'CENSUS_R', u'CONDNIGH', u'CONDPUB', u'CONDRIDE', u'CONDRIVE', u'CONDSPEC', u'CONDTAX', u'CONDTRAV', u'DELIVER', u'DIARY', u'DISTTOSC', u'DRIVER', u'DTACDT', u'DTCONJ', u'DTCOST', u'DTRAGE', u'DTRAN', u'DTWALK', u'EDUC', u'EVERDROV', u'FLEXTIME', u'FMSCSIZE', u'FRSTHM', u'FXDWKPL', u'GCDWORK', u'GRADE', u'GT1JBLWK', u'HHRESP', u'HHSTATE', u'HHSTFIPS', u'ISSUE', u'OCCAT', u'LSTTRDAY', u'MCUSED', u'MEDCOND', u'MEDCOND6', u'MOROFTEN', u'MSACAT', u'MSASIZE', u'NBIKETRP', u'NWALKTRP', u'OUTCNTRY', u'OUTOFTWN', u'PAYPROF', u'PRMACT', u'PROXY', u'PTUSED', u'PURCHASE', u'R_AGE', u'R_RELAT', u'R_SEX', u'RAIL', u'SAMEPLC', u'SCHCARE', u'SCHCRIM', u'SCHDIST', u'SCHSPD', u'SCHTRAF', u'SCHTRN1', u'SCHTRN2', u'SCHTYP', u'SCHWTHR', u'SELF_EMP', u'TIMETOSC', u'TIMETOWK', u'TOSCSIZE', u'TRAVDAY', u'URBAN', u'URBANSIZE', u'URBRUR', u'USEINTST', u'USEPUBTR', u'WEBUSE', u'WKFMHMXX', u'WKFTPT', u'WKRMHM', u'WKSTFIPS', u'WORKER', u'WRKTIME', u'WRKTRANS', ...], dtype='object')>"
       ]
      }
     ],
     "prompt_number": 82
    },
    {
     "cell_type": "code",
     "collapsed": false,
     "input": [
      "df_PER['DTWALK'].plot()\n"
     ],
     "language": "python",
     "metadata": {},
     "outputs": [
      {
       "metadata": {},
       "output_type": "pyout",
       "prompt_number": 84,
       "text": [
        "<matplotlib.axes.AxesSubplot at 0x105a48810>"
       ]
      }
     ],
     "prompt_number": 84
    },
    {
     "cell_type": "heading",
     "level": 6,
     "metadata": {},
     "source": [
      "compare walking and bicycling by state, Census_R, Census_D, areas..."
     ]
    },
    {
     "cell_type": "heading",
     "level": 6,
     "metadata": {},
     "source": [
      "Plot Walk, Bike and Travel to school trips by month: DF['column'].plot() Matlib (one indivdiual county) and all of them together df.plot(figsize=(15,10))"
     ]
    }
   ],
   "metadata": {}
  }
 ]
}